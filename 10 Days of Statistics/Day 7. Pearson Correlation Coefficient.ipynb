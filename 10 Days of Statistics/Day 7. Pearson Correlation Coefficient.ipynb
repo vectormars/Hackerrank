{
 "cells": [
  {
   "cell_type": "markdown",
   "metadata": {},
   "source": [
    "### Pearson Correlation Coefficient\n",
    "$${\\rho _{X,Y}} = \\frac{{\\sum {\\left( {{x_i} - {\\mu _X}} \\right)\\left( {{y_i} - {\\mu _Y}} \\right)} }}{{n{\\sigma _X}{\\sigma _Y}}}$$"
   ]
  },
  {
   "cell_type": "code",
   "execution_count": 1,
   "metadata": {},
   "outputs": [
    {
     "name": "stdout",
     "output_type": "stream",
     "text": [
      "10\n",
      "10 9.8 8 7.8 7.7 7 6 5 4 2\n",
      "200 44 32 24 22 17 15 12 8 4\n"
     ]
    }
   ],
   "source": [
    "N = int(input())\n",
    "X = list(map(float, input().strip().split(' ')))\n",
    "Y = list(map(float, input().strip().split(' ')))"
   ]
  },
  {
   "cell_type": "code",
   "execution_count": 2,
   "metadata": {},
   "outputs": [
    {
     "data": {
      "text/plain": [
       "(0.61247219372084816, 0.05978461460708815)"
      ]
     },
     "execution_count": 2,
     "metadata": {},
     "output_type": "execute_result"
    }
   ],
   "source": [
    "import scipy.stats\n",
    "scipy.stats.pearsonr(X, Y)"
   ]
  },
  {
   "cell_type": "code",
   "execution_count": 3,
   "metadata": {},
   "outputs": [
    {
     "name": "stdout",
     "output_type": "stream",
     "text": [
      "0.612\n"
     ]
    }
   ],
   "source": [
    "print(round(scipy.stats.pearsonr(X, Y)[0],3))"
   ]
  },
  {
   "cell_type": "code",
   "execution_count": 4,
   "metadata": {
    "collapsed": true
   },
   "outputs": [],
   "source": [
    "mu_X = sum(X)/N\n",
    "mu_Y = sum(Y)/N"
   ]
  },
  {
   "cell_type": "code",
   "execution_count": 5,
   "metadata": {},
   "outputs": [
    {
     "data": {
      "text/plain": [
       "[3.2699999999999987,\n",
       " 3.0699999999999994,\n",
       " 1.2699999999999987,\n",
       " 1.0699999999999985,\n",
       " 0.9699999999999989,\n",
       " 0.2699999999999987,\n",
       " -0.7300000000000013,\n",
       " -1.7300000000000013,\n",
       " -2.7300000000000013,\n",
       " -4.730000000000001]"
      ]
     },
     "execution_count": 5,
     "metadata": {},
     "output_type": "execute_result"
    }
   ],
   "source": [
    "X0 = [x - mu_X for x in X]\n",
    "X0"
   ]
  },
  {
   "cell_type": "code",
   "execution_count": 6,
   "metadata": {},
   "outputs": [
    {
     "data": {
      "text/plain": [
       "[162.2,\n",
       " 6.200000000000003,\n",
       " -5.799999999999997,\n",
       " -13.799999999999997,\n",
       " -15.799999999999997,\n",
       " -20.799999999999997,\n",
       " -22.799999999999997,\n",
       " -25.799999999999997,\n",
       " -29.799999999999997,\n",
       " -33.8]"
      ]
     },
     "execution_count": 6,
     "metadata": {},
     "output_type": "execute_result"
    }
   ],
   "source": [
    "Y0 = [y - mu_Y for y in Y]\n",
    "Y0"
   ]
  },
  {
   "cell_type": "code",
   "execution_count": 7,
   "metadata": {},
   "outputs": [
    {
     "data": {
      "text/plain": [
       "[530.3939999999998,\n",
       " 19.034000000000006,\n",
       " -7.365999999999989,\n",
       " -14.765999999999977,\n",
       " -15.32599999999998,\n",
       " -5.615999999999972,\n",
       " 16.644000000000027,\n",
       " 44.63400000000003,\n",
       " 81.35400000000003,\n",
       " 159.87400000000002]"
      ]
     },
     "execution_count": 7,
     "metadata": {},
     "output_type": "execute_result"
    }
   ],
   "source": [
    "[a*b for a,b in zip(X0,Y0)]"
   ]
  },
  {
   "cell_type": "code",
   "execution_count": 8,
   "metadata": {},
   "outputs": [
    {
     "data": {
      "text/plain": [
       "5.724100000000002"
      ]
     },
     "execution_count": 8,
     "metadata": {},
     "output_type": "execute_result"
    }
   ],
   "source": [
    "sum([(x - mu_X)**2 for x in X])/N"
   ]
  },
  {
   "cell_type": "code",
   "execution_count": 9,
   "metadata": {
    "collapsed": true
   },
   "outputs": [],
   "source": [
    "import math\n",
    "std_X = math.sqrt(sum([(x - mu_X)**2 for x in X])/N)\n",
    "std_Y = math.sqrt(sum([(y - mu_Y)**2 for y in Y])/N)"
   ]
  },
  {
   "cell_type": "code",
   "execution_count": 10,
   "metadata": {},
   "outputs": [
    {
     "data": {
      "text/plain": [
       "0.6124721937208479"
      ]
     },
     "execution_count": 10,
     "metadata": {},
     "output_type": "execute_result"
    }
   ],
   "source": [
    "sum([a*b for a,b in zip(X0,Y0)])/(N*std_X*std_Y)"
   ]
  },
  {
   "cell_type": "code",
   "execution_count": 11,
   "metadata": {
    "collapsed": true
   },
   "outputs": [],
   "source": [
    "def Pearson(X,Y):\n",
    "    N =len(X)\n",
    "    \n",
    "    mu_X = sum(X)/N\n",
    "    mu_Y = sum(Y)/N\n",
    "    \n",
    "    X0 = [x - mu_X for x in X]\n",
    "    Y0 = [y - mu_Y for y in Y]\n",
    "    \n",
    "    import math\n",
    "    std_X = math.sqrt(sum([(x - mu_X)**2 for x in X])/N)\n",
    "    std_Y = math.sqrt(sum([(y - mu_Y)**2 for y in Y])/N)\n",
    "    \n",
    "    return sum([a*b for a,b in zip(X0,Y0)])/(N*std_X*std_Y)"
   ]
  },
  {
   "cell_type": "code",
   "execution_count": 12,
   "metadata": {},
   "outputs": [
    {
     "name": "stdout",
     "output_type": "stream",
     "text": [
      "0.612\n"
     ]
    }
   ],
   "source": [
    "print(round(Pearson(X,Y),3))"
   ]
  }
 ],
 "metadata": {
  "kernelspec": {
   "display_name": "Python 3",
   "language": "python",
   "name": "python3"
  },
  "language_info": {
   "codemirror_mode": {
    "name": "ipython",
    "version": 3
   },
   "file_extension": ".py",
   "mimetype": "text/x-python",
   "name": "python",
   "nbconvert_exporter": "python",
   "pygments_lexer": "ipython3",
   "version": "3.6.1"
  }
 },
 "nbformat": 4,
 "nbformat_minor": 2
}
