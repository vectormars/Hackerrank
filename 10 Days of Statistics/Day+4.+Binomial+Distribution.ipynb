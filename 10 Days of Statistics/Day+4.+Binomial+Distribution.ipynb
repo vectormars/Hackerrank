{
 "cells": [
  {
   "cell_type": "markdown",
   "metadata": {},
   "source": [
    "The **binomial random variable** is the number of successes, $x$, out of $n$ trials. "
   ]
  },
  {
   "cell_type": "markdown",
   "metadata": {},
   "source": [
    "$$\\begin{array}{*{20}{c}}\n",
    "{f\\left( x \\right) = {p^x}{{\\left( {1 - p} \\right)}^{1 - x}}}&{\\textrm{for }x \\in \\left\\{ {0,1} \\right\\}}\n",
    "\\end{array}$$ "
   ]
  },
  {
   "cell_type": "markdown",
   "metadata": {},
   "source": [
    "The **binomial distribution** is the probability distribution for the binomial random variable, given by the following probability mass function:"
   ]
  },
  {
   "cell_type": "markdown",
   "metadata": {},
   "source": [
    "$$b\\left( {x,n,p} \\right) = \\left( {\\begin{array}{*{20}{c}}\n",
    "n\\\\\n",
    "x\n",
    "\\end{array}} \\right){p^x}{\\left( {1 - p} \\right)^{n - x}}$$"
   ]
  },
  {
   "cell_type": "markdown",
   "metadata": {},
   "source": [
    "**Cumulative Probability**"
   ]
  },
  {
   "cell_type": "markdown",
   "metadata": {},
   "source": [
    "$$P\\left( {a < X \\le b} \\right) = {F_X}\\left( b \\right) - {F_X}\\left( a \\right)$$"
   ]
  },
  {
   "cell_type": "code",
   "execution_count": 1,
   "metadata": {
    "collapsed": true
   },
   "outputs": [],
   "source": [
    "import scipy.stats as stats"
   ]
  },
  {
   "cell_type": "markdown",
   "metadata": {},
   "source": [
    "#### Example\n",
    "A fair coin is tossed 10 times. Find the following probabilities:\n",
    "* Getting 5 heads.\n",
    "* Getting at least 5 heads.\n",
    "* Getting at most 5 heads."
   ]
  },
  {
   "cell_type": "markdown",
   "metadata": {},
   "source": [
    "For this experiment, $n=10$, $p=0.5$, and $q=0.5$. The respective probabilities for the above three events are as follows:"
   ]
  },
  {
   "cell_type": "markdown",
   "metadata": {},
   "source": [
    "* The probability of getting 5 heads is:\n",
    "$$b\\left( {x = 5,n,p} \\right) = 0.24609375$$"
   ]
  },
  {
   "cell_type": "code",
   "execution_count": 2,
   "metadata": {},
   "outputs": [
    {
     "data": {
      "text/plain": [
       "0.24609375000000025"
      ]
     },
     "execution_count": 2,
     "metadata": {},
     "output_type": "execute_result"
    }
   ],
   "source": [
    "stats.binom.pmf(k=5, n=10, p=0.5)"
   ]
  },
  {
   "cell_type": "markdown",
   "metadata": {},
   "source": [
    "* The probability of getting at least 5 heads is:\n",
    "$$b\\left( {x \\ge 5,n,p} \\right) = \\sum\\limits_{r = 5}^{10} {b\\left( {x = r,n,p} \\right)}  = 0.623046875$$"
   ]
  },
  {
   "cell_type": "code",
   "execution_count": 3,
   "metadata": {},
   "outputs": [
    {
     "data": {
      "text/plain": [
       "[5, 6, 7, 8, 9, 10]"
      ]
     },
     "execution_count": 3,
     "metadata": {},
     "output_type": "execute_result"
    }
   ],
   "source": [
    "list(range(5,11))"
   ]
  },
  {
   "cell_type": "code",
   "execution_count": 4,
   "metadata": {},
   "outputs": [
    {
     "data": {
      "text/plain": [
       "array([ 0.24609375,  0.20507813,  0.1171875 ,  0.04394531,  0.00976563,\n",
       "        0.00097656])"
      ]
     },
     "execution_count": 4,
     "metadata": {},
     "output_type": "execute_result"
    }
   ],
   "source": [
    "stats.binom.pmf(k=list(range(5,11)), n=10, p=0.5)"
   ]
  },
  {
   "cell_type": "code",
   "execution_count": 5,
   "metadata": {},
   "outputs": [
    {
     "data": {
      "text/plain": [
       "0.62304687500000056"
      ]
     },
     "execution_count": 5,
     "metadata": {},
     "output_type": "execute_result"
    }
   ],
   "source": [
    "sum(stats.binom.pmf(k=list(range(5,11)), n=10, p=0.5))"
   ]
  },
  {
   "cell_type": "markdown",
   "metadata": {},
   "source": [
    "* The probability of getting at most 5 heads is:\n",
    "$$b\\left( {x \\le 5,n,p} \\right) = \\sum\\limits_{r = 0}^5 {b\\left( {x = r,n,p} \\right)}  = 0.623046875$$"
   ]
  },
  {
   "cell_type": "code",
   "execution_count": 6,
   "metadata": {},
   "outputs": [
    {
     "data": {
      "text/plain": [
       "[0, 1, 2, 3, 4, 5]"
      ]
     },
     "execution_count": 6,
     "metadata": {},
     "output_type": "execute_result"
    }
   ],
   "source": [
    "list(range(0,6))"
   ]
  },
  {
   "cell_type": "code",
   "execution_count": 7,
   "metadata": {},
   "outputs": [
    {
     "data": {
      "text/plain": [
       "array([ 0.00097656,  0.00976563,  0.04394531,  0.1171875 ,  0.20507813,\n",
       "        0.24609375])"
      ]
     },
     "execution_count": 7,
     "metadata": {},
     "output_type": "execute_result"
    }
   ],
   "source": [
    "stats.binom.pmf(k=list(range(0,6)), n=10, p=0.5)"
   ]
  },
  {
   "cell_type": "code",
   "execution_count": 8,
   "metadata": {},
   "outputs": [
    {
     "data": {
      "text/plain": [
       "0.62304687500000056"
      ]
     },
     "execution_count": 8,
     "metadata": {},
     "output_type": "execute_result"
    }
   ],
   "source": [
    "sum(stats.binom.pmf(k=list(range(0,6)), n=10, p=0.5))"
   ]
  },
  {
   "cell_type": "markdown",
   "metadata": {},
   "source": [
    "### Task \n",
    "The ratio of boys to girls for babies born in Russia is 1.09. If there is 1 child born per birth, what proportion of Russian families with exactly 6 children will have at least 3 boys?\n",
    "\n",
    "Write a program to compute the answer using the above parameters. Then print your result, rounded to a scale of decimal places (i.e., 1.234 format)."
   ]
  },
  {
   "cell_type": "markdown",
   "metadata": {},
   "source": [
    "#### 1. Apply package"
   ]
  },
  {
   "cell_type": "code",
   "execution_count": 9,
   "metadata": {},
   "outputs": [
    {
     "data": {
      "text/plain": [
       "0.521531100478469"
      ]
     },
     "execution_count": 9,
     "metadata": {},
     "output_type": "execute_result"
    }
   ],
   "source": [
    "p_Russia = 1.09/(1+1.09)\n",
    "p_Russia"
   ]
  },
  {
   "cell_type": "code",
   "execution_count": 10,
   "metadata": {},
   "outputs": [
    {
     "data": {
      "text/plain": [
       "[3, 4, 5, 6]"
      ]
     },
     "execution_count": 10,
     "metadata": {},
     "output_type": "execute_result"
    }
   ],
   "source": [
    "list(range(3,6+1))"
   ]
  },
  {
   "cell_type": "code",
   "execution_count": 11,
   "metadata": {},
   "outputs": [
    {
     "name": "stdout",
     "output_type": "stream",
     "text": [
      "0.696\n"
     ]
    }
   ],
   "source": [
    "print(\"%.3f\" % sum(stats.binom.pmf(k=list(range(3,7)), n=6, p=p_Russia)))"
   ]
  },
  {
   "cell_type": "markdown",
   "metadata": {},
   "source": [
    "#### 2. By code"
   ]
  },
  {
   "cell_type": "code",
   "execution_count": 12,
   "metadata": {},
   "outputs": [],
   "source": [
    "def fact(n):\n",
    "    return 1 if n ==0 else n*fact(n-1)"
   ]
  },
  {
   "cell_type": "code",
   "execution_count": 13,
   "metadata": {},
   "outputs": [
    {
     "name": "stdout",
     "output_type": "stream",
     "text": [
      "1\n",
      "2\n",
      "6\n",
      "24\n",
      "120\n"
     ]
    }
   ],
   "source": [
    "print(fact(1))\n",
    "print(fact(2))\n",
    "print(fact(3))\n",
    "print(fact(4))\n",
    "print(fact(5))"
   ]
  },
  {
   "cell_type": "code",
   "execution_count": 14,
   "metadata": {},
   "outputs": [],
   "source": [
    "def comb(n,x):\n",
    "    return fact(n)/(fact(x)*(fact(n-x)))"
   ]
  },
  {
   "cell_type": "code",
   "execution_count": 15,
   "metadata": {},
   "outputs": [
    {
     "name": "stdout",
     "output_type": "stream",
     "text": [
      "6.0\n",
      "15.0\n",
      "20.0\n",
      "15.0\n",
      "6.0\n",
      "1.0\n"
     ]
    }
   ],
   "source": [
    "print(comb(6,1))\n",
    "print(comb(6,2))\n",
    "print(comb(6,3))\n",
    "print(comb(6,4))\n",
    "print(comb(6,5))\n",
    "print(comb(6,6))"
   ]
  },
  {
   "cell_type": "code",
   "execution_count": 16,
   "metadata": {
    "collapsed": true
   },
   "outputs": [],
   "source": [
    "def b(x,n,p):\n",
    "    return comb(n,x)*p**x*(1-p)**(n-x)"
   ]
  },
  {
   "cell_type": "code",
   "execution_count": 17,
   "metadata": {},
   "outputs": [
    {
     "name": "stdout",
     "output_type": "stream",
     "text": [
      "1.09 1\n",
      "0.696\n"
     ]
    }
   ],
   "source": [
    "l, r = list(map(float, input().split(\" \")))\n",
    "odds = l / r\n",
    "print(round(sum([b(i, 6, odds / (1 + odds)) for i in range(3, 7)]), 3))"
   ]
  }
 ],
 "metadata": {
  "kernelspec": {
   "display_name": "Python 3",
   "language": "python",
   "name": "python3"
  },
  "language_info": {
   "codemirror_mode": {
    "name": "ipython",
    "version": 3
   },
   "file_extension": ".py",
   "mimetype": "text/x-python",
   "name": "python",
   "nbconvert_exporter": "python",
   "pygments_lexer": "ipython3",
   "version": "3.6.1"
  }
 },
 "nbformat": 4,
 "nbformat_minor": 2
}
