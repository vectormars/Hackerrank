{
 "cells": [
  {
   "cell_type": "markdown",
   "metadata": {},
   "source": [
    "### Negative binomial"
   ]
  },
  {
   "cell_type": "markdown",
   "metadata": {},
   "source": [
    "If $X$ is the number of experiments until the $x^{th}$ success occurs, then $X$ is a discrete random variable called a **negative binomial**. \n",
    "$${b^*}\\left( {x,n,p} \\right) = \\left( {\\begin{array}{*{20}{c}}\n",
    "{n - 1}\\\\\n",
    "{x - 1}\n",
    "\\end{array}} \\right){p^x}{q^{\\left( {n - x} \\right)}}$$"
   ]
  },
  {
   "cell_type": "markdown",
   "metadata": {},
   "source": [
    "### Geometric Distribution"
   ]
  },
  {
   "cell_type": "markdown",
   "metadata": {},
   "source": [
    "The geometric distribution is a special case of the negative binomial distribution that deals with the number of Bernoulli trials required to get a success (i.e., counting the number of failures before the first success).\n",
    "$$g\\left( {n,p} \\right) = {q^{\\left( {n - 1} \\right)}}p$$"
   ]
  },
  {
   "cell_type": "markdown",
   "metadata": {},
   "source": [
    "#### Example\n",
    "Bob is a high school basketball player. He is a 70% free throw shooter, meaning his probability of making a free throw is 0.7. What is the probability that Bob makes his first free throw on his fifth shot? \n",
    "$$g\\left( {n = 5,p = 0.7} \\right) = {\\left( {1 - 0.7} \\right)^{\\left( {5 - 1} \\right)}}0.7 = 0.00567$$"
   ]
  },
  {
   "cell_type": "markdown",
   "metadata": {},
   "source": [
    "#### Task I\n",
    "The probability that a machine produces a defective product is $\\frac{1}{3}$. What is the probability that the first defect is found during the fifth inspection?"
   ]
  },
  {
   "cell_type": "code",
   "execution_count": 1,
   "metadata": {
    "collapsed": true
   },
   "outputs": [],
   "source": [
    "def g(n,p):\n",
    "    return (1-p)**(n-1)*p"
   ]
  },
  {
   "cell_type": "code",
   "execution_count": 2,
   "metadata": {},
   "outputs": [
    {
     "name": "stdout",
     "output_type": "stream",
     "text": [
      "1 3\n",
      "5\n"
     ]
    }
   ],
   "source": [
    "A, B = list(map(int, input().split(\" \")))\n",
    "N = int(input())"
   ]
  },
  {
   "cell_type": "code",
   "execution_count": 3,
   "metadata": {},
   "outputs": [
    {
     "name": "stdout",
     "output_type": "stream",
     "text": [
      "0.066\n"
     ]
    }
   ],
   "source": [
    "print(round(g(N,A/B), 3))"
   ]
  },
  {
   "cell_type": "markdown",
   "metadata": {},
   "source": [
    "#### Task II\n",
    "The probability that a machine produces a defective product is $\\frac{1}{3}$. What is the probability that the  defect is found during the first 5 inspections?"
   ]
  },
  {
   "cell_type": "code",
   "execution_count": 4,
   "metadata": {},
   "outputs": [],
   "source": [
    "p2 = 1-A/B"
   ]
  },
  {
   "cell_type": "code",
   "execution_count": 5,
   "metadata": {},
   "outputs": [
    {
     "name": "stdout",
     "output_type": "stream",
     "text": [
      "0.868\n"
     ]
    }
   ],
   "source": [
    "print(round(1-p2**N,3))"
   ]
  },
  {
   "cell_type": "code",
   "execution_count": 6,
   "metadata": {},
   "outputs": [
    {
     "data": {
      "text/plain": [
       "0.8683127572016461"
      ]
     },
     "execution_count": 6,
     "metadata": {},
     "output_type": "execute_result"
    }
   ],
   "source": [
    "sum([g(i,A/B) for i in range(1,N+1)])"
   ]
  },
  {
   "cell_type": "code",
   "execution_count": 7,
   "metadata": {},
   "outputs": [
    {
     "name": "stdout",
     "output_type": "stream",
     "text": [
      "0.868\n"
     ]
    }
   ],
   "source": [
    "print(round(sum([g(i,A/B) for i in range(1,N+1)]),3))"
   ]
  }
 ],
 "metadata": {
  "kernelspec": {
   "display_name": "Python 3",
   "language": "python",
   "name": "python3"
  },
  "language_info": {
   "codemirror_mode": {
    "name": "ipython",
    "version": 3
   },
   "file_extension": ".py",
   "mimetype": "text/x-python",
   "name": "python",
   "nbconvert_exporter": "python",
   "pygments_lexer": "ipython3",
   "version": "3.6.1"
  }
 },
 "nbformat": 4,
 "nbformat_minor": 2
}
