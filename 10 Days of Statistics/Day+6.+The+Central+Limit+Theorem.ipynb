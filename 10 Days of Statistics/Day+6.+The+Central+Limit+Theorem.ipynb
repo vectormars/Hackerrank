{
 "cells": [
  {
   "cell_type": "markdown",
   "metadata": {},
   "source": [
    "### Central Limit Theorem\n",
    "The central limit theorem (CLT) states that, for a large enough sample ($n$), the distribution of the sample mean will approach normal distribution. This holds for a sample of independent random variables from any distribution with a finite standard deviation. \n",
    "\n",
    "Let $\\left\\{ {{X_1},{X_2}, \\ldots ,{X_n}} \\right\\}$ be a random data set of size $n$, that is, a sequence of independent and identically distributed random variables drawn from distributions of expected values given by $\\mu$ and finite variances given by ${\\sigma ^2}$. \n",
    "\n",
    "The sample average is:\n",
    "$${s_n}: = \\frac{{\\sum\\nolimits_i {{X_i}} }}{N}$$\n",
    "\n",
    "For large $n$, the distribution of sample **sums** $S_n$ is close to normal distribution $N\\left( {\\mu ',\\sigma '} \\right)$ where: \n",
    "* $\\mu ' = n \\times \\mu$\n",
    "* $\\sigma ' = \\sqrt n  \\times \\sigma$"
   ]
  },
  {
   "cell_type": "markdown",
   "metadata": {},
   "source": [
    "#### Task I\n",
    "A large elevator can transport a maximum of 9800 pounds. Suppose a load of cargo containing 49 boxes must be transported via the elevator. The box weight of this type of cargo follows a distribution with a mean of $\\mu=205$ pounds and a standard deviation of $\\sigma=15$ pounds. Based on this information, what is the probability that all 49 boxes can be safely loaded into the freight elevator and transported?"
   ]
  },
  {
   "cell_type": "code",
   "execution_count": 1,
   "metadata": {},
   "outputs": [],
   "source": [
    "import scipy.stats as stats\n",
    "import math\n",
    "n = 49\n",
    "mu = 205*n\n",
    "std = 15*math.sqrt(n)"
   ]
  },
  {
   "cell_type": "code",
   "execution_count": 2,
   "metadata": {},
   "outputs": [
    {
     "name": "stdout",
     "output_type": "stream",
     "text": [
      "0.0098\n"
     ]
    }
   ],
   "source": [
    "print(round(stats.norm(mu, std).cdf(9800),4))"
   ]
  },
  {
   "cell_type": "markdown",
   "metadata": {},
   "source": [
    "#### Task II\n",
    "The number of tickets purchased by each student for the University X vs. University Y football game follows a distribution that has a mean of $\\mu=2.4$ and a standard deviation of $\\sigma=2.0$.\n",
    "\n",
    "A few hours before the game starts, 100 eager students line up to purchase last-minute tickets. If there are only 250 tickets left, what is the probability that all 100 students will be able to purchase tickets?"
   ]
  },
  {
   "cell_type": "code",
   "execution_count": 3,
   "metadata": {},
   "outputs": [
    {
     "name": "stdout",
     "output_type": "stream",
     "text": [
      "0.6915\n"
     ]
    }
   ],
   "source": [
    "n = 100\n",
    "mu = 2.4*n\n",
    "std = 2.0*math.sqrt(n)\n",
    "print(round(stats.norm(mu, std).cdf(250),4))"
   ]
  },
  {
   "cell_type": "markdown",
   "metadata": {},
   "source": [
    "#### Task III\n",
    "You have a sample of 100 values from a population with mean $\\mu=500$ and with standard deviation $\\sigma=80$. Compute the interval that covers the middle 95\\% of the distribution of the sample mean; in other words, compute $A$ and $B$ such that $P\\left( {A < x < B} \\right) = 0.95$. Use the value of $z = 1.96$. Note that $z$ is the z-score.\n",
    "* For a known standard deviation: $\\left( {\\bar x - {z^*}\\frac{\\sigma }{{\\sqrt n }},\\bar x + {z^*}\\frac{\\sigma }{{\\sqrt n }}} \\right)$\n",
    "* For an unknown standard deviation: $\\left( {\\bar x - {t^*}\\frac{\\sigma }{{\\sqrt n }},\\bar x + {t^*}\\frac{\\sigma }{{\\sqrt n }}} \\right)$"
   ]
  },
  {
   "cell_type": "code",
   "execution_count": 4,
   "metadata": {
    "collapsed": true
   },
   "outputs": [],
   "source": [
    "n = 100\n",
    "mu = 500\n",
    "std = 80\n",
    "z = 1.96 "
   ]
  },
  {
   "cell_type": "code",
   "execution_count": 5,
   "metadata": {},
   "outputs": [
    {
     "data": {
      "text/plain": [
       "484.32"
      ]
     },
     "execution_count": 5,
     "metadata": {},
     "output_type": "execute_result"
    }
   ],
   "source": [
    "mu - z*std/math.sqrt(n)"
   ]
  },
  {
   "cell_type": "code",
   "execution_count": 6,
   "metadata": {},
   "outputs": [
    {
     "data": {
      "text/plain": [
       "515.68"
      ]
     },
     "execution_count": 6,
     "metadata": {},
     "output_type": "execute_result"
    }
   ],
   "source": [
    "mu + z*std/math.sqrt(n)"
   ]
  }
 ],
 "metadata": {
  "kernelspec": {
   "display_name": "Python 3",
   "language": "python",
   "name": "python3"
  },
  "language_info": {
   "codemirror_mode": {
    "name": "ipython",
    "version": 3
   },
   "file_extension": ".py",
   "mimetype": "text/x-python",
   "name": "python",
   "nbconvert_exporter": "python",
   "pygments_lexer": "ipython3",
   "version": "3.6.1"
  }
 },
 "nbformat": 4,
 "nbformat_minor": 2
}
