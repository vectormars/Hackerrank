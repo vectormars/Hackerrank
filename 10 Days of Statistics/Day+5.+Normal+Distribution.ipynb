{
 "cells": [
  {
   "cell_type": "markdown",
   "metadata": {},
   "source": [
    "**Normal Distribution**\n",
    "$$N\\left( {\\mu ,{\\sigma ^2}} \\right) = \\frac{1}{{\\sigma \\sqrt {2\\pi } }}\\exp \\left\\{ { - \\frac{{{{\\left( {x - \\mu } \\right)}^2}}}{{2{\\sigma ^2}}}} \\right\\}$$"
   ]
  },
  {
   "cell_type": "markdown",
   "metadata": {},
   "source": [
    "**Standard Normal Distribution**     \n",
    "$\\mu=0$, $\\sigma=1$\n",
    "$$\\phi \\left( x \\right) = \\frac{{{e^{ - \\frac{{{x^2}}}{2}}}}}{{\\sqrt {2\\pi } }}$$"
   ]
  },
  {
   "cell_type": "markdown",
   "metadata": {},
   "source": [
    "**Cumulative Probability**     \n",
    "The cumulative distribution function for a function with normal distribution is:\n",
    "$$\\Phi \\left( x \\right) = \\frac{1}{2}\\left( {1 + erf\\left( {\\frac{{x - \\mu }}{{\\sigma \\sqrt 2 }}} \\right)} \\right)$$\n",
    "where *erf* is the error function\n",
    "$$erf\\left( z \\right) = \\frac{2}{{\\sqrt \\pi  }}\\int_0^z {{e^{ - {x^2}}}} dx$$"
   ]
  },
  {
   "cell_type": "markdown",
   "metadata": {},
   "source": [
    "#### Task I \n",
    "In a certain plant, the time taken to assemble a car is a random variable, $X$, having a normal distribution with a mean of 20 hours and a standard deviation of 2 hours. What is the probability that a car can be assembled at this plant in:\n",
    "\n",
    "1. Less than 19.5 hours?\n",
    "2. Between 20 and 22 hours?"
   ]
  },
  {
   "cell_type": "code",
   "execution_count": 1,
   "metadata": {},
   "outputs": [
    {
     "name": "stdout",
     "output_type": "stream",
     "text": [
      "0.401\n",
      "0.341\n"
     ]
    }
   ],
   "source": [
    "import scipy.stats as stats\n",
    "print(round(stats.norm(20, 2).cdf(19.5),3))\n",
    "print(round(stats.norm(20, 2).cdf(22)-stats.norm(20, 2).cdf(20),3))"
   ]
  },
  {
   "cell_type": "code",
   "execution_count": 2,
   "metadata": {
    "collapsed": true
   },
   "outputs": [],
   "source": [
    "import math\n",
    "def Normal_Cum(x,mu,std):\n",
    "    return (1+math.erf((x-mu)/(std*math.sqrt(2))))/2"
   ]
  },
  {
   "cell_type": "code",
   "execution_count": 3,
   "metadata": {},
   "outputs": [
    {
     "name": "stdout",
     "output_type": "stream",
     "text": [
      "0.401\n"
     ]
    }
   ],
   "source": [
    "print(round(Normal_Cum(19.5,20,2),3))"
   ]
  },
  {
   "cell_type": "code",
   "execution_count": 4,
   "metadata": {},
   "outputs": [
    {
     "name": "stdout",
     "output_type": "stream",
     "text": [
      "0.341\n"
     ]
    }
   ],
   "source": [
    "print(round(Normal_Cum(22,20,2)-Normal_Cum(20,20,2),3))"
   ]
  },
  {
   "cell_type": "markdown",
   "metadata": {},
   "source": [
    "#### Task II\n",
    "The final grades for a Physics exam taken by a large group of students have a mean of $\\mu=70$ and a standard deviation of $\\sigma=10$. If we can approximate the distribution of these grades by a normal distribution, what percentage of the students:\n",
    "\n",
    "1. Scored higher than 80\n",
    "2. Passed the test 60\n",
    "2. Failed the test 60\n",
    "Find and print the answer to each question on a new line, rounded to a scale of 2 decimal places."
   ]
  },
  {
   "cell_type": "code",
   "execution_count": 5,
   "metadata": {},
   "outputs": [
    {
     "name": "stdout",
     "output_type": "stream",
     "text": [
      "15.87\n",
      "84.13\n",
      "15.87\n"
     ]
    }
   ],
   "source": [
    "print(round((1-Normal_Cum(80,70,10))*100,2))\n",
    "print(round((1-Normal_Cum(60,70,10))*100,2))\n",
    "print(round((Normal_Cum(60,70,10))*100,2))"
   ]
  }
 ],
 "metadata": {
  "kernelspec": {
   "display_name": "Python 3",
   "language": "python",
   "name": "python3"
  },
  "language_info": {
   "codemirror_mode": {
    "name": "ipython",
    "version": 3
   },
   "file_extension": ".py",
   "mimetype": "text/x-python",
   "name": "python",
   "nbconvert_exporter": "python",
   "pygments_lexer": "ipython3",
   "version": "3.6.1"
  }
 },
 "nbformat": 4,
 "nbformat_minor": 2
}
