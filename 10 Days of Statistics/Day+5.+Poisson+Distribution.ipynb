{
 "cells": [
  {
   "cell_type": "markdown",
   "metadata": {},
   "source": [
    "### Poisson Distribution\n",
    "A Poisson random variable is the number of successes that result from a Poisson experiment. The probability distribution of a Poisson random variable is called a Poisson distribution:\n",
    "$$P\\left( {k,\\lambda } \\right) = \\frac{{{\\lambda ^k}{e^{ - \\lambda }}}}{{k!}}$$\n",
    "* $E\\left( X \\right) = \\lambda $\n",
    "* $Var\\left( X \\right) = \\lambda $\n",
    "* $E\\left( {{X^2}} \\right) = \\lambda  + {\\lambda ^2}$"
   ]
  },
  {
   "cell_type": "markdown",
   "metadata": {},
   "source": [
    "#### Example\n",
    "Acme Realty company sells an average of 2 homes per day. What is the probability that exactly 3 homes will be sold tomorrow? \n",
    "$$P\\left( {k = 3,\\lambda  = 2} \\right) = \\frac{{{\\lambda ^k}{e^{ - \\lambda }}}}{{k!}} = 0.18$$"
   ]
  },
  {
   "cell_type": "markdown",
   "metadata": {},
   "source": [
    "#### Task I\n",
    "A random variable, $X$, follows Poisson distribution with mean of 2.5. Find the probability with which the random variable $X$ is equal to 5."
   ]
  },
  {
   "cell_type": "code",
   "execution_count": 1,
   "metadata": {},
   "outputs": [
    {
     "data": {
      "text/plain": [
       "0.066800942890542669"
      ]
     },
     "execution_count": 1,
     "metadata": {},
     "output_type": "execute_result"
    }
   ],
   "source": [
    "import scipy.stats as stats\n",
    "stats.poisson.pmf(k=5,mu=2.5)"
   ]
  },
  {
   "cell_type": "code",
   "execution_count": 2,
   "metadata": {
    "collapsed": true
   },
   "outputs": [],
   "source": [
    "def fact(n):\n",
    "    return 1 if n==0 else n*fact(n-1)"
   ]
  },
  {
   "cell_type": "code",
   "execution_count": 3,
   "metadata": {},
   "outputs": [],
   "source": [
    "def Possi(l,k):\n",
    "    return (l**k*2.71828**(-l))/fact(k)"
   ]
  },
  {
   "cell_type": "code",
   "execution_count": 4,
   "metadata": {},
   "outputs": [
    {
     "data": {
      "text/plain": [
       "0.06680105522522659"
      ]
     },
     "execution_count": 4,
     "metadata": {},
     "output_type": "execute_result"
    }
   ],
   "source": [
    "Possi(2.5,5)"
   ]
  },
  {
   "cell_type": "code",
   "execution_count": 5,
   "metadata": {},
   "outputs": [
    {
     "name": "stdout",
     "output_type": "stream",
     "text": [
      "0.067\n"
     ]
    }
   ],
   "source": [
    "print(round(Possi(2.5,5),3))"
   ]
  },
  {
   "cell_type": "markdown",
   "metadata": {},
   "source": [
    "#### Task II\n",
    "The manager of a industrial plant is planning to buy a machine of either type $A$ or type $B$. For each day’s operation:\n",
    "\n",
    "* The number of repairs, $X$, that machine $A$ needs is a Poisson random variable with mean 0.88. The daily cost of operating $A$ is ${C_A} = 160 + 40{X^2}$.\n",
    "* The number of repairs, $Y$, that machine $B$ needs is a Poisson random variable with mean 1.55. The daily cost of operating $B$ is ${C_B} = 128 + 40{Y^2}$.\n",
    "\n",
    "Assume that the repairs take a negligible amount of time and the machines are maintained nightly to ensure that they operate like new at the start of each day. Find and print the expected daily cost for each machine."
   ]
  },
  {
   "cell_type": "code",
   "execution_count": 6,
   "metadata": {
    "collapsed": true
   },
   "outputs": [],
   "source": [
    "EX2 = 0.88+0.88**2\n",
    "EY2 = 1.55+1.55**2"
   ]
  },
  {
   "cell_type": "code",
   "execution_count": 7,
   "metadata": {},
   "outputs": [
    {
     "name": "stdout",
     "output_type": "stream",
     "text": [
      "226.176\n",
      "286.1\n"
     ]
    }
   ],
   "source": [
    "print(round(160+40*EX2,3))\n",
    "print(round(128+40*EY2,3))"
   ]
  }
 ],
 "metadata": {
  "kernelspec": {
   "display_name": "Python 3",
   "language": "python",
   "name": "python3"
  },
  "language_info": {
   "codemirror_mode": {
    "name": "ipython",
    "version": 3
   },
   "file_extension": ".py",
   "mimetype": "text/x-python",
   "name": "python",
   "nbconvert_exporter": "python",
   "pygments_lexer": "ipython3",
   "version": "3.6.1"
  }
 },
 "nbformat": 4,
 "nbformat_minor": 2
}
