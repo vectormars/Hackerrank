{
 "cells": [
  {
   "cell_type": "markdown",
   "metadata": {},
   "source": [
    "Two cats named $A$ and $B$ are standing at integral points on the x-axis. Cat $A$ is standing at point $x$ and cat $B$ is standing at point $y$. Both cats run at the same speed, and they want to catch a mouse named $C$ that's hiding at integral point $z$ on the x-axis. Can you determine who will catch the mouse?\n",
    "\n",
    "You are given $q$ queries in the form of $x$, $y$, and $z$. For each query, print the appropriate answer on a new line:\n",
    "\n",
    "* If cat $A$ catches the mouse first, print Cat A.\n",
    "* If cat $B$ catches the mouse first, print Cat B.\n",
    "* If both cats reach the mouse at the same time, print Mouse C as the two cats fight and mouse escapes."
   ]
  },
  {
   "cell_type": "code",
   "execution_count": 6,
   "metadata": {
    "collapsed": true
   },
   "outputs": [],
   "source": [
    "def Catch(x,y,z):\n",
    "    d1 = abs(x-z)\n",
    "    d2 = abs(y-z)\n",
    "    if d1==d2:\n",
    "        print(\"Mouse C\")\n",
    "    elif d1>d2:\n",
    "        print(\"Cat B\")\n",
    "    else:\n",
    "        print(\"Cat A\")"
   ]
  },
  {
   "cell_type": "code",
   "execution_count": 7,
   "metadata": {},
   "outputs": [
    {
     "name": "stdout",
     "output_type": "stream",
     "text": [
      "3\n",
      "1 2 3\n",
      "Cat B\n",
      "1 3 2\n",
      "Mouse C\n",
      "2 1 3\n",
      "Cat A\n"
     ]
    }
   ],
   "source": [
    "import sys\n",
    "\n",
    "\n",
    "q = int(input().strip())\n",
    "for a0 in range(q):\n",
    "    x,y,z = input().strip().split(' ')\n",
    "    x,y,z = [int(x),int(y),int(z)]\n",
    "    Catch(x,y,z)"
   ]
  }
 ],
 "metadata": {
  "kernelspec": {
   "display_name": "Python 3",
   "language": "python",
   "name": "python3"
  },
  "language_info": {
   "codemirror_mode": {
    "name": "ipython",
    "version": 3
   },
   "file_extension": ".py",
   "mimetype": "text/x-python",
   "name": "python",
   "nbconvert_exporter": "python",
   "pygments_lexer": "ipython3",
   "version": "3.6.1"
  }
 },
 "nbformat": 4,
 "nbformat_minor": 2
}
