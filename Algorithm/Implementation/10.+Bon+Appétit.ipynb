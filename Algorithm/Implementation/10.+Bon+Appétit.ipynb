{
 "cells": [
  {
   "cell_type": "markdown",
   "metadata": {},
   "source": [
    "Anna and Brian order $n$ items at a restaurant, but Anna declines to eat any of the $k^{th}$ item (where $0 \\leq k \\leq n$) due to an allergy. When the check comes, they decide to split the cost of all the items they shared; however, Brian may have forgotten that they didn't split the $k^{th}$ item and accidentally charged Anna for it.\n",
    "\n",
    "You are given $n$, $k$, the cost of each of the  items, and the total amount of money that Brian charged Anna for her portion of the bill. If the bill is fairly split, print Bon Appetit; otherwise, print the amount of money that Brian must refund to Anna."
   ]
  },
  {
   "cell_type": "code",
   "execution_count": 1,
   "metadata": {
    "collapsed": true
   },
   "outputs": [],
   "source": [
    "import sys\n",
    "\n",
    "def bonAppetit(n, k, b, ar):\n",
    "    # Complete this function\n",
    "    del ar[k]\n",
    "    bs = int(sum(ar)/2)\n",
    "    if bs == b:\n",
    "        return \"Bon Appetit\"\n",
    "    else:\n",
    "        return b-bs"
   ]
  },
  {
   "cell_type": "code",
   "execution_count": 2,
   "metadata": {},
   "outputs": [
    {
     "name": "stdout",
     "output_type": "stream",
     "text": [
      "Input n and k:\n",
      "4 1\n",
      "Input cost:\n",
      "3 10 2 9\n",
      "Inout Brian charged:\n",
      "12\n",
      "Result:\n",
      "5\n"
     ]
    }
   ],
   "source": [
    "print(\"Input n and k:\")\n",
    "n, k = input().strip().split(' ')\n",
    "n, k = [int(n), int(k)]\n",
    "print(\"Input cost:\")\n",
    "ar = list(map(int, input().strip().split(' ')))\n",
    "print(\"Inout Brian charged:\")\n",
    "b = int(input().strip())\n",
    "result = bonAppetit(n, k, b, ar)\n",
    "print(\"Result:\")\n",
    "print(result)"
   ]
  },
  {
   "cell_type": "code",
   "execution_count": 3,
   "metadata": {},
   "outputs": [
    {
     "name": "stdout",
     "output_type": "stream",
     "text": [
      "Input n and k:\n",
      "4 1\n",
      "Input cost:\n",
      "3 10 2 9\n",
      "Inout Brian charged:\n",
      "7\n",
      "Result:\n",
      "Bon Appetit\n"
     ]
    }
   ],
   "source": [
    "print(\"Input n and k:\")\n",
    "n, k = input().strip().split(' ')\n",
    "n, k = [int(n), int(k)]\n",
    "print(\"Input cost:\")\n",
    "ar = list(map(int, input().strip().split(' ')))\n",
    "print(\"Inout Brian charged:\")\n",
    "b = int(input().strip())\n",
    "result = bonAppetit(n, k, b, ar)\n",
    "print(\"Result:\")\n",
    "print(result)"
   ]
  }
 ],
 "metadata": {
  "kernelspec": {
   "display_name": "Python 3",
   "language": "python",
   "name": "python3"
  },
  "language_info": {
   "codemirror_mode": {
    "name": "ipython",
    "version": 3
   },
   "file_extension": ".py",
   "mimetype": "text/x-python",
   "name": "python",
   "nbconvert_exporter": "python",
   "pygments_lexer": "ipython3",
   "version": "3.6.1"
  }
 },
 "nbformat": 4,
 "nbformat_minor": 2
}
