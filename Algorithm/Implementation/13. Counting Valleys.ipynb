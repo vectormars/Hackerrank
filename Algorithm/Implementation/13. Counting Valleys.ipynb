{
 "cells": [
  {
   "cell_type": "markdown",
   "metadata": {},
   "source": [
    "Gary is an avid hiker. He tracks his hikes meticulously, paying close attention to small details like topography. During his last hike, he took exactly n steps. For every step he took, he noted if it was an uphill or a downhill step. Gary's hikes start and end at sea level. We define the following terms:\n",
    "* A mountain is a non-empty sequence of consecutive steps above sea level, starting with a step up from sea level and ending with a step down to sea level.\n",
    "* A valley is a non-empty sequence of consecutive steps below sea level, starting with a step down from sea level and ending with a step up to sea level.\n",
    "\n",
    "Given Gary's sequence of up and down steps during his last hike, find and print the number of valleys he walked through."
   ]
  },
  {
   "cell_type": "code",
   "execution_count": 1,
   "metadata": {},
   "outputs": [
    {
     "name": "stdout",
     "output_type": "stream",
     "text": [
      "8\n",
      "UDDDUDUU\n",
      "1\n"
     ]
    }
   ],
   "source": [
    "nsteps = int(input().strip())\n",
    "\n",
    "steps = list(input().strip())\n",
    "\n",
    "level = 0\n",
    "valleys = 0\n",
    "\n",
    "for step in steps:\n",
    "    if step == 'U':\n",
    "        level += 1\n",
    "        if level == 0:\n",
    "            valleys += 1\n",
    "    else:\n",
    "        level -= 1\n",
    "\n",
    "print(valleys)"
   ]
  },
  {
   "cell_type": "code",
   "execution_count": 2,
   "metadata": {},
   "outputs": [
    {
     "name": "stdout",
     "output_type": "stream",
     "text": [
      "12\n",
      "DDUUDDUDUUUD\n",
      "2\n"
     ]
    }
   ],
   "source": [
    "nsteps = int(input().strip())\n",
    "\n",
    "steps = list(input().strip())\n",
    "\n",
    "level = 0\n",
    "valleys = 0\n",
    "\n",
    "for step in steps:\n",
    "    if step == 'U':\n",
    "        level += 1\n",
    "        if level == 0:\n",
    "            valleys += 1\n",
    "    else:\n",
    "        level -= 1\n",
    "\n",
    "print(valleys)"
   ]
  }
 ],
 "metadata": {
  "kernelspec": {
   "display_name": "Python 3",
   "language": "python",
   "name": "python3"
  },
  "language_info": {
   "codemirror_mode": {
    "name": "ipython",
    "version": 3
   },
   "file_extension": ".py",
   "mimetype": "text/x-python",
   "name": "python",
   "nbconvert_exporter": "python",
   "pygments_lexer": "ipython3",
   "version": "3.6.1"
  }
 },
 "nbformat": 4,
 "nbformat_minor": 2
}
