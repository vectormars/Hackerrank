{
 "cells": [
  {
   "cell_type": "code",
   "execution_count": 1,
   "metadata": {},
   "outputs": [
    {
     "name": "stdout",
     "output_type": "stream",
     "text": [
      "2017\n",
      "13.09.2017\n"
     ]
    }
   ],
   "source": [
    "import sys\n",
    "\n",
    "def solve(year):\n",
    "    if (year == 1918):\n",
    "        return '26.09.1918'\n",
    "    elif ((year <= 1917) & (year%4 == 0)) or ((year > 1918) & (year%400 == 0 or ((year%4 == 0) & (year%100 != 0)))):\n",
    "        return '12.09.%s' %year\n",
    "    else:\n",
    "        return '13.09.%s' %year\n",
    "\n",
    "year = int(input().strip())\n",
    "result = solve(year)\n",
    "print(result)"
   ]
  },
  {
   "cell_type": "code",
   "execution_count": 2,
   "metadata": {},
   "outputs": [
    {
     "name": "stdout",
     "output_type": "stream",
     "text": [
      "2016\n",
      "12.09.2016\n"
     ]
    }
   ],
   "source": [
    "year = int(input().strip())\n",
    "result = solve(year)\n",
    "print(result)"
   ]
  }
 ],
 "metadata": {
  "kernelspec": {
   "display_name": "Python 3",
   "language": "python",
   "name": "python3"
  },
  "language_info": {
   "codemirror_mode": {
    "name": "ipython",
    "version": 3
   },
   "file_extension": ".py",
   "mimetype": "text/x-python",
   "name": "python",
   "nbconvert_exporter": "python",
   "pygments_lexer": "ipython3",
   "version": "3.6.1"
  }
 },
 "nbformat": 4,
 "nbformat_minor": 2
}
