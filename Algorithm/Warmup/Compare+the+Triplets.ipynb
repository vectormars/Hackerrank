{
 "cells": [
  {
   "cell_type": "markdown",
   "metadata": {},
   "source": [
    "Alice's challenge to be the triplet $A=(a_0,a_1,a_2)$      \n",
    "Bob's challenge to be the triplet $B=(b_0,b_1,b_2)$ \n",
    "\n",
    "* If $a_i > b_i$, then Alice is awarded 1 point.\n",
    "* If $a_i < b_i$, then Bob is awarded 1 point.\n",
    "* If $a_i = b_i$, then neither person receives a point."
   ]
  },
  {
   "cell_type": "markdown",
   "metadata": {},
   "source": [
    "### Approach 1"
   ]
  },
  {
   "cell_type": "code",
   "execution_count": 1,
   "metadata": {
    "collapsed": true
   },
   "outputs": [],
   "source": [
    "a0,a1,a2 = 5,6,7\n",
    "b0,b1,b2 = 3,6,10"
   ]
  },
  {
   "cell_type": "code",
   "execution_count": 2,
   "metadata": {},
   "outputs": [],
   "source": [
    "def solve(a0, a1, a2, b0, b1, b2):\n",
    "    # Complete this function\n",
    "    L=list()\n",
    "    A = 0\n",
    "    B = 0\n",
    "    if a0 > b0:\n",
    "        A = A+1\n",
    "    elif a0 < b0:\n",
    "        B = B+1\n",
    "    else:\n",
    "        A = A\n",
    "        B = B\n",
    "    \n",
    "    if a1 > b1:\n",
    "        A = A+1\n",
    "    elif a1 < b1:\n",
    "        B = B+1\n",
    "    else:\n",
    "        A = A\n",
    "        B = B\n",
    "        \n",
    "    if a2 > b2:\n",
    "        A = A+1\n",
    "    elif a2 < b2:\n",
    "        B = B+1\n",
    "    else:\n",
    "        A = A\n",
    "        B = B\n",
    "        \n",
    "    L.append(A)\n",
    "    L.append(B)\n",
    "    return L"
   ]
  },
  {
   "cell_type": "code",
   "execution_count": 3,
   "metadata": {},
   "outputs": [
    {
     "data": {
      "text/plain": [
       "[1, 1]"
      ]
     },
     "execution_count": 3,
     "metadata": {},
     "output_type": "execute_result"
    }
   ],
   "source": [
    "solve(a0, a1, a2, b0, b1, b2)"
   ]
  },
  {
   "cell_type": "markdown",
   "metadata": {},
   "source": [
    "### Approach 2"
   ]
  },
  {
   "cell_type": "code",
   "execution_count": 4,
   "metadata": {},
   "outputs": [],
   "source": [
    "A = [a0, a1, a2]\n",
    "B = [b0, b1, b2]"
   ]
  },
  {
   "cell_type": "code",
   "execution_count": 5,
   "metadata": {},
   "outputs": [
    {
     "name": "stdout",
     "output_type": "stream",
     "text": [
      "[1]\n",
      "[1]\n"
     ]
    }
   ],
   "source": [
    "print([1 for a,b in zip(A,B) if a>b])\n",
    "print([1 for a,b in zip(A,B) if a<b])"
   ]
  },
  {
   "cell_type": "code",
   "execution_count": 6,
   "metadata": {},
   "outputs": [
    {
     "name": "stdout",
     "output_type": "stream",
     "text": [
      "1 1\n"
     ]
    }
   ],
   "source": [
    "Ascore = len([1 for a,b in zip(A,B) if a>b])\n",
    "Bscore = len([1 for a,b in zip(A,B) if b>a])\n",
    "print(Ascore, Bscore)"
   ]
  }
 ],
 "metadata": {
  "kernelspec": {
   "display_name": "Python 3",
   "language": "python",
   "name": "python3"
  },
  "language_info": {
   "codemirror_mode": {
    "name": "ipython",
    "version": 3
   },
   "file_extension": ".py",
   "mimetype": "text/x-python",
   "name": "python",
   "nbconvert_exporter": "python",
   "pygments_lexer": "ipython3",
   "version": "3.6.1"
  }
 },
 "nbformat": 4,
 "nbformat_minor": 2
}
