{
 "cells": [
  {
   "cell_type": "code",
   "execution_count": 1,
   "metadata": {},
   "outputs": [
    {
     "name": "stdout",
     "output_type": "stream",
     "text": [
      "07:05:45PM\n",
      "19:05:45\n"
     ]
    }
   ],
   "source": [
    "import sys\n",
    "\n",
    "def timeConversion(s):\n",
    "    # Complete this function\n",
    "    if s[-2:] == 'PM' and s[:2] != '12' :\n",
    "        newNum = int(s[:2]) + 12\n",
    "        return str(newNum) + s[2:-2]\n",
    "    elif s[-2:] == 'AM' and s[:2] == '12' :\n",
    "        return '00' + s[2:-2] \n",
    "    else :\n",
    "        return s[:-2]\n",
    "\n",
    "s = input().strip()\n",
    "result = timeConversion(s)\n",
    "print(result)"
   ]
  }
 ],
 "metadata": {
  "kernelspec": {
   "display_name": "Python 3",
   "language": "python",
   "name": "python3"
  },
  "language_info": {
   "codemirror_mode": {
    "name": "ipython",
    "version": 3
   },
   "file_extension": ".py",
   "mimetype": "text/x-python",
   "name": "python",
   "nbconvert_exporter": "python",
   "pygments_lexer": "ipython3",
   "version": "3.6.1"
  }
 },
 "nbformat": 4,
 "nbformat_minor": 2
}
